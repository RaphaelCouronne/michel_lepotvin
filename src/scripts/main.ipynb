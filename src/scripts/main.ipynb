{
 "cells": [
  {
   "cell_type": "code",
   "execution_count": 1,
   "metadata": {},
   "outputs": [],
   "source": [
    "import json\n",
    "import os\n",
    "import os.path as osp\n",
    "from PIL import Image"
   ]
  },
  {
   "cell_type": "markdown",
   "metadata": {},
   "source": [
    "# Compute image description as .json file"
   ]
  },
  {
   "cell_type": "code",
   "execution_count": 2,
   "metadata": {},
   "outputs": [],
   "source": [
    "# Load Image Captioning model\n",
    "\n",
    "import requests\n",
    "from PIL import Image\n",
    "from transformers import BlipProcessor, BlipForConditionalGeneration\n",
    "\n",
    "processor = BlipProcessor.from_pretrained(\"Salesforce/blip-image-captioning-base\")\n",
    "model = BlipForConditionalGeneration.from_pretrained(\"Salesforce/blip-image-captioning-base\")"
   ]
  },
  {
   "cell_type": "code",
   "execution_count": 3,
   "metadata": {},
   "outputs": [
    {
     "name": "stderr",
     "output_type": "stream",
     "text": [
      "c:\\Users\\rapha\\code\\ressources\\anaconda_2024_04_08\\envs\\michel\\lib\\site-packages\\transformers\\generation\\utils.py:1132: UserWarning: Using the model-agnostic default `max_length` (=20) to control the generation length. We recommend setting `max_new_tokens` to control the maximum length of the generation.\n",
      "  warnings.warn(\n"
     ]
    },
    {
     "name": "stdout",
     "output_type": "stream",
     "text": [
      "{'id': 'abs-12', 'title': 'abs-12', 'link': '', 'folder': 'abstrait', 'description': 'a painting of a green and red flower', 'image': '../content/paintings/abstrait/abs-12.png', 'width': 2193, 'height': 1772}\n",
      "abs-12.png\n",
      "abs.14.png\n",
      "abs.15.jpg\n",
      "abs.16.jpg\n",
      "abs._8.JPG\n",
      "Desordre-estival.jpg\n",
      "Harmonie n 2.jpg\n",
      "Harmonie n 3.jpg\n",
      "Harmonie n 4.jpg\n",
      "Harmonie. r.jpg\n",
      "img2014.png\n",
      "larmonie n 1.jpg\n",
      "rose-bleu.JPG\n",
      "Banlieue de Mougins.png\n"
     ]
    },
    {
     "ename": "FileNotFoundError",
     "evalue": "[Errno 2] No such file or directory: '../content/paintings/abstrait\\\\Banlieue de Mougins.png'",
     "output_type": "error",
     "traceback": [
      "\u001b[1;31m---------------------------------------------------------------------------\u001b[0m",
      "\u001b[1;31mFileNotFoundError\u001b[0m                         Traceback (most recent call last)",
      "Cell \u001b[1;32mIn[3], line 46\u001b[0m\n\u001b[0;32m     44\u001b[0m     \u001b[38;5;28;01mfor\u001b[39;00m file_name \u001b[38;5;129;01min\u001b[39;00m os\u001b[38;5;241m.\u001b[39mlistdir(osp\u001b[38;5;241m.\u001b[39mjoin(\u001b[38;5;124m\"\u001b[39m\u001b[38;5;124m../content/paintings/\u001b[39m\u001b[38;5;124m\"\u001b[39m, folder_name)):\n\u001b[0;32m     45\u001b[0m         \u001b[38;5;28mprint\u001b[39m(file_name)\n\u001b[1;32m---> 46\u001b[0m         data \u001b[38;5;241m=\u001b[39m \u001b[43mget_description\u001b[49m\u001b[43m(\u001b[49m\u001b[43mfolder_dir\u001b[49m\u001b[43m,\u001b[49m\u001b[43m \u001b[49m\u001b[43mfile_name\u001b[49m\u001b[43m)\u001b[49m\n\u001b[0;32m     47\u001b[0m         image_description\u001b[38;5;241m.\u001b[39mappend(data)\n\u001b[0;32m     49\u001b[0m \u001b[38;5;28;01mwith\u001b[39;00m \u001b[38;5;28mopen\u001b[39m(\u001b[38;5;124m'\u001b[39m\u001b[38;5;124m../content/paintings/paintings.json\u001b[39m\u001b[38;5;124m'\u001b[39m, \u001b[38;5;124m'\u001b[39m\u001b[38;5;124mw\u001b[39m\u001b[38;5;124m'\u001b[39m) \u001b[38;5;28;01mas\u001b[39;00m f:\n",
      "Cell \u001b[1;32mIn[3], line 9\u001b[0m, in \u001b[0;36mget_description\u001b[1;34m(folder_dir, file_name)\u001b[0m\n\u001b[0;32m      6\u001b[0m title \u001b[38;5;241m=\u001b[39m file_name\u001b[38;5;241m.\u001b[39msplit(\u001b[38;5;124m\"\u001b[39m\u001b[38;5;124m.\u001b[39m\u001b[38;5;124m\"\u001b[39m)[\u001b[38;5;241m0\u001b[39m]\n\u001b[0;32m      8\u001b[0m \u001b[38;5;66;03m# Load image and get basic informations\u001b[39;00m\n\u001b[1;32m----> 9\u001b[0m raw_image \u001b[38;5;241m=\u001b[39m  \u001b[43mImage\u001b[49m\u001b[38;5;241;43m.\u001b[39;49m\u001b[43mopen\u001b[49m\u001b[43m(\u001b[49m\u001b[43mosp\u001b[49m\u001b[38;5;241;43m.\u001b[39;49m\u001b[43mjoin\u001b[49m\u001b[43m(\u001b[49m\u001b[43mfolder_dir\u001b[49m\u001b[43m,\u001b[49m\u001b[43m \u001b[49m\u001b[43mfile_name\u001b[49m\u001b[43m)\u001b[49m\u001b[43m)\u001b[49m\u001b[38;5;241m.\u001b[39mconvert(\u001b[38;5;124m'\u001b[39m\u001b[38;5;124mRGB\u001b[39m\u001b[38;5;124m'\u001b[39m)\n\u001b[0;32m     10\u001b[0m width, height \u001b[38;5;241m=\u001b[39m raw_image\u001b[38;5;241m.\u001b[39msize\n\u001b[0;32m     12\u001b[0m \u001b[38;5;66;03m# Get computer-generated description\u001b[39;00m\n",
      "File \u001b[1;32mc:\\Users\\rapha\\code\\ressources\\anaconda_2024_04_08\\envs\\michel\\lib\\site-packages\\PIL\\Image.py:3247\u001b[0m, in \u001b[0;36mopen\u001b[1;34m(fp, mode, formats)\u001b[0m\n\u001b[0;32m   3244\u001b[0m     filename \u001b[38;5;241m=\u001b[39m fp\n\u001b[0;32m   3246\u001b[0m \u001b[38;5;28;01mif\u001b[39;00m filename:\n\u001b[1;32m-> 3247\u001b[0m     fp \u001b[38;5;241m=\u001b[39m \u001b[43mbuiltins\u001b[49m\u001b[38;5;241;43m.\u001b[39;49m\u001b[43mopen\u001b[49m\u001b[43m(\u001b[49m\u001b[43mfilename\u001b[49m\u001b[43m,\u001b[49m\u001b[43m \u001b[49m\u001b[38;5;124;43m\"\u001b[39;49m\u001b[38;5;124;43mrb\u001b[39;49m\u001b[38;5;124;43m\"\u001b[39;49m\u001b[43m)\u001b[49m\n\u001b[0;32m   3248\u001b[0m     exclusive_fp \u001b[38;5;241m=\u001b[39m \u001b[38;5;28;01mTrue\u001b[39;00m\n\u001b[0;32m   3250\u001b[0m \u001b[38;5;28;01mtry\u001b[39;00m:\n",
      "\u001b[1;31mFileNotFoundError\u001b[0m: [Errno 2] No such file or directory: '../content/paintings/abstrait\\\\Banlieue de Mougins.png'"
     ]
    }
   ],
   "source": [
    "def get_description(folder_dir, file_name, auto_description=False):\n",
    "    \"\"\"\n",
    "    Get description of the image of a painting.\n",
    "    \"\"\"\n",
    "\n",
    "    title = file_name.split(\".\")[0]\n",
    "\n",
    "    # Load image and get basic informations\n",
    "    raw_image =  Image.open(osp.join(folder_dir, file_name)).convert('RGB')\n",
    "    width, height = raw_image.size\n",
    "\n",
    "    # Get computer-generated description\n",
    "    if auto_description:\n",
    "        text = \"a painting of\"\n",
    "        inputs = processor(raw_image, text, return_tensors=\"pt\")\n",
    "        out = model.generate(**inputs)\n",
    "        out_decoded = processor.decode(out[0], skip_special_tokens=True)\n",
    "    else:\n",
    "        out_decoded = \"\"\n",
    "\n",
    "\n",
    "    # Prepare the data\n",
    "    data = {\n",
    "        \"id\": title.lower(),  \n",
    "        \"title\": title,\n",
    "        \"link\": \"\",\n",
    "        \"folder\": folder_dir.split(\"/\")[-1], \n",
    "        \"description\": out_decoded,\n",
    "        \"image\": f\"{folder_dir}/{file_name}\",  \n",
    "        \"width\": width,\n",
    "        \"height\": height\n",
    "    }\n",
    "\n",
    "    return data\n",
    "\n",
    "\n",
    "# One shot test\n",
    "folder_dir = \"../content/paintings/abstrait\"\n",
    "file_name = os.listdir(folder_dir)[0]\n",
    "data = get_description(folder_dir, file_name)\n",
    "print(data)\n",
    "\n",
    "\n",
    "# Compute image description\n",
    "image_description = []\n",
    "for folder_name in [\"abstrait\", \"paysages\"]:\n",
    "    folder_dir = osp.join(\"../content/paintings/\", folder_name)\n",
    "    for file_name in os.listdir(folder_dir):\n",
    "        print(file_name)\n",
    "        data = get_description(folder_dir, file_name)\n",
    "        image_description.append(data)\n",
    "\n",
    "with open('../content/paintings/paintings.json', 'w') as f:\n",
    "    json.dump(image_description, f)"
   ]
  },
  {
   "cell_type": "code",
   "execution_count": null,
   "metadata": {},
   "outputs": [],
   "source": []
  }
 ],
 "metadata": {
  "kernelspec": {
   "display_name": "michel",
   "language": "python",
   "name": "python3"
  },
  "language_info": {
   "codemirror_mode": {
    "name": "ipython",
    "version": 3
   },
   "file_extension": ".py",
   "mimetype": "text/x-python",
   "name": "python",
   "nbconvert_exporter": "python",
   "pygments_lexer": "ipython3",
   "version": "3.10.14"
  }
 },
 "nbformat": 4,
 "nbformat_minor": 2
}
