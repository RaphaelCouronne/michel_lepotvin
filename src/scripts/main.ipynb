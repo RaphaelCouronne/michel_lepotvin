{
 "cells": [
  {
   "cell_type": "code",
   "execution_count": 2,
   "metadata": {},
   "outputs": [],
   "source": [
    "import json\n",
    "import os\n",
    "import os.path as osp\n",
    "from PIL import Image"
   ]
  },
  {
   "cell_type": "markdown",
   "metadata": {},
   "source": [
    "# Compute image description as .json file"
   ]
  },
  {
   "cell_type": "code",
   "execution_count": 3,
   "metadata": {},
   "outputs": [],
   "source": [
    "# Load Image Captioning model\n",
    "\n",
    "import requests\n",
    "from PIL import Image\n",
    "from transformers import BlipProcessor, BlipForConditionalGeneration\n",
    "\n",
    "processor = BlipProcessor.from_pretrained(\"Salesforce/blip-image-captioning-base\")\n",
    "model = BlipForConditionalGeneration.from_pretrained(\"Salesforce/blip-image-captioning-base\")"
   ]
  },
  {
   "cell_type": "code",
   "execution_count": 4,
   "metadata": {},
   "outputs": [
    {
     "name": "stdout",
     "output_type": "stream",
     "text": [
      "{'id': 'abs-12', 'title': 'abs-12', 'link': '', 'folder': 'abstrait', 'description': '', 'image_path': '../content/paintings/abstrait/abs-12.png', 'width': 2193, 'height': 1772}\n"
     ]
    }
   ],
   "source": [
    "def get_description(folder_dir, file_name, auto_description=False):\n",
    "    \"\"\"\n",
    "    Get description of the image of a painting.\n",
    "    \"\"\"\n",
    "\n",
    "    title = file_name.split(\".\")[0]\n",
    "\n",
    "    # Load image and get basic informations\n",
    "    raw_image =  Image.open(osp.join(folder_dir, file_name)).convert('RGB')\n",
    "    width, height = raw_image.size\n",
    "\n",
    "    # Get computer-generated description\n",
    "    if auto_description:\n",
    "        text = \"a painting of\"\n",
    "        inputs = processor(raw_image, text, return_tensors=\"pt\")\n",
    "        out = model.generate(**inputs)\n",
    "        out_decoded = processor.decode(out[0], skip_special_tokens=True)\n",
    "    else:\n",
    "        out_decoded = \"\"\n",
    "\n",
    "\n",
    "    # Prepare the data\n",
    "    data = {\n",
    "        \"id\": title.lower(),  \n",
    "        \"title\": title,\n",
    "        \"link\": \"\",\n",
    "        \"folder\": folder_dir.split(\"/\")[-1], \n",
    "        \"description\": out_decoded,\n",
    "        \"image_path\": f\"{folder_dir}/{file_name}\",  \n",
    "        \"width\": width,\n",
    "        \"height\": height\n",
    "    }\n",
    "\n",
    "    return data\n",
    "\n",
    "\n",
    "# One shot test\n",
    "folder_dir = \"../content/paintings/abstrait\"\n",
    "file_name = os.listdir(folder_dir)[0]\n",
    "data = get_description(folder_dir, file_name)\n",
    "print(data)\n",
    "\n"
   ]
  },
  {
   "cell_type": "code",
   "execution_count": 5,
   "metadata": {},
   "outputs": [
    {
     "name": "stdout",
     "output_type": "stream",
     "text": [
      "abs-12.png\n",
      "abs.14.png\n",
      "abs.15.jpg\n",
      "abs.16.jpg\n",
      "abs._8.JPG\n",
      "Desordre-estival.jpg\n",
      "Harmonie n 2.jpg\n",
      "Harmonie n 3.jpg\n",
      "Harmonie n 4.jpg\n",
      "Harmonie. r.jpg\n",
      "img2014.png\n",
      "larmonie n 1.jpg\n",
      "rose-bleu.JPG\n",
      "Banlieue de Mougins.png\n",
      "Baou de St Jeannet.jpg\n",
      "Baou-18.jpg\n",
      "Benodet.jpg\n",
      "Bretagne.jpg\n",
      "Casinca - Corse.jpg\n",
      "Castagniccia-Corse.jpg\n",
      "Cerisiers en fleurs.jpg\n",
      "Chemin dans la pinède.jpg\n",
      "Chemin du Chapitre. Créteil.png\n",
      "Claparadès.Luberon.jpg\n",
      "Env.d'Eccica.jpg\n",
      "Environs de Castagnetu.jpg\n",
      "Environs de Lascours.png\n",
      "Golfe de La Napoule.jpg\n",
      "img516.jpg\n",
      "Le Baou de St Jeannet.jpg\n",
      "Le Beaucet-Vaucluse.jpg\n",
      "moi.jpg\n",
      "Monte-stello.jpg\n",
      "Oliviers en Corse.jpg\n",
      "Peillon.png\n",
      "Près de Mougins.jpg\n",
      "Près de Quimperlé.jpg\n",
      "Près de Sartène.jpg\n",
      "Restaurant de Charles-Boissy..jpg\n",
      "Saint Jeannet.jpg\n",
      "Saint Paul de Vence.jpg\n",
      "Soleil couchant sur le Baou.jpg\n",
      "Soveria-Corse.jpg\n",
      "Théra - Ile de Santorin.png\n",
      "Vaucluse. Bord de l'eau.jpg\n",
      "Vence.jpg\n",
      "Vence.r.jpg\n"
     ]
    }
   ],
   "source": [
    "\n",
    "# Compute image description\n",
    "image_description = []\n",
    "for folder_name in [\"abstrait\", \"paysages\"]:\n",
    "    folder_dir = osp.join(\"../content/paintings/\", folder_name)\n",
    "    for file_name in os.listdir(folder_dir):\n",
    "        print(file_name)\n",
    "        data = get_description(folder_dir, file_name)\n",
    "        image_description.append(data)\n",
    "\n",
    "with open('../content/paintings/paintings.json', 'w') as f:\n",
    "    json.dump(image_description, f)"
   ]
  }
 ],
 "metadata": {
  "kernelspec": {
   "display_name": "michel",
   "language": "python",
   "name": "python3"
  },
  "language_info": {
   "codemirror_mode": {
    "name": "ipython",
    "version": 3
   },
   "file_extension": ".py",
   "mimetype": "text/x-python",
   "name": "python",
   "nbconvert_exporter": "python",
   "pygments_lexer": "ipython3",
   "version": "3.10.14"
  }
 },
 "nbformat": 4,
 "nbformat_minor": 2
}
